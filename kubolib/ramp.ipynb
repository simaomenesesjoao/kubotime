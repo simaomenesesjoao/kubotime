{
 "cells": [
  {
   "cell_type": "code",
   "execution_count": null,
   "id": "c654d445-3563-40e0-90c0-970e4307eb19",
   "metadata": {},
   "outputs": [],
   "source": [
    "import numpy as np"
   ]
  },
  {
   "cell_type": "code",
   "execution_count": null,
   "id": "84c19477-4012-4c18-ba78-0223c2596de0",
   "metadata": {},
   "outputs": [],
   "source": [
    "def pot_ramp(dims, sample):\n",
    "    # Electric field term in 2D. Min is always -0.5 and max\n",
    "    # is always +0.5\n",
    "    Lx, Ly, No = dims\n",
    "    \n",
    "    lead1 = Lx//2 - sample//2\n",
    "    lead2 = Lx//2 + sample//2\n",
    "    \n",
    "    potential2 = np.zeros(dims)\n",
    "    \n",
    "    for i in range(lead1, lead2):\n",
    "        potential2[i,:,:] = (i - lead1)/sample - 0.5\n",
    "    for i in range(lead2,Lx):\n",
    "        potential2[i,:,:] = 0.5\n",
    "    for i in range(lead1):\n",
    "        potential2[i,:,:] = -0.5\n",
    "        \n",
    "    return potential2\n",
    "\n",
    "def linearize_pot(pot):\n",
    "    Lx, Ly, No = pot.shape\n",
    "    N = Lx*Ly*No\n",
    "    potential_lin = np.zeros([N,N])\n",
    "    \n",
    "    for i in range(Lx):\n",
    "        for j in range(Ly):\n",
    "            for o in range(No):\n",
    "                n = i + j*Lx + o*Lx*Ly\n",
    "                potential_lin[n,n] = pot[i,j,o]\n",
    "                \n",
    "    return potential_lin"
   ]
  }
 ],
 "metadata": {
  "kernelspec": {
   "display_name": "Python 3 (ipykernel)",
   "language": "python",
   "name": "python3"
  },
  "language_info": {
   "codemirror_mode": {
    "name": "ipython",
    "version": 3
   },
   "file_extension": ".py",
   "mimetype": "text/x-python",
   "name": "python",
   "nbconvert_exporter": "python",
   "pygments_lexer": "ipython3",
   "version": "3.9.7"
  }
 },
 "nbformat": 4,
 "nbformat_minor": 5
}

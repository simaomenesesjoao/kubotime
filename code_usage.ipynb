{
 "cells": [
  {
   "cell_type": "markdown",
   "id": "2f7f43e0-dc76-4ca6-b3e5-752a81c33ea8",
   "metadata": {},
   "source": [
    "# Example on how the library is used"
   ]
  },
  {
   "cell_type": "code",
   "execution_count": 1,
   "id": "a08ca234-120f-4883-bd62-3a0447fb5d8d",
   "metadata": {},
   "outputs": [],
   "source": [
    "import sys\n",
    "import numpy as np\n",
    "import matplotlib.pyplot as plt\n",
    "sys.path.insert(1, '/home/simao/projects_sync/codes/kubotime/kubolib')\n",
    "\n",
    "import kubo_lib"
   ]
  },
  {
   "cell_type": "code",
   "execution_count": 4,
   "id": "0822d536-7922-4697-b5e2-35eb05312f80",
   "metadata": {},
   "outputs": [
    {
     "name": "stdout",
     "output_type": "stream",
     "text": [
      "Calculating Vx operator. Norm=2.849991049037142\n",
      "Calculating Vb operator. Norm=3.8544964466377274\n",
      "[[[0.+0.j 0.+0.j 0.+0.j 0.+0.j]\n",
      "  [0.+0.j 0.+0.j 0.+0.j 0.+0.j]\n",
      "  [0.+0.j 0.+0.j 0.+0.j 0.+0.j]]\n",
      "\n",
      " [[0.+0.j 0.+0.j 0.+0.j 0.+0.j]\n",
      "  [0.+0.j 0.+0.j 0.+0.j 1.+0.j]\n",
      "  [0.+0.j 0.+0.j 0.+0.j 0.+0.j]]\n",
      "\n",
      " [[0.+0.j 0.+0.j 0.+0.j 0.+0.j]\n",
      "  [0.+0.j 0.+0.j 0.+0.j 0.+0.j]\n",
      "  [0.+0.j 0.+0.j 0.+0.j 0.+0.j]]\n",
      "\n",
      " [[0.+0.j 0.+0.j 0.+0.j 0.+0.j]\n",
      "  [0.+0.j 0.+0.j 0.+0.j 0.+0.j]\n",
      "  [0.+0.j 0.+0.j 0.+0.j 0.+0.j]]\n",
      "\n",
      " [[0.+0.j 0.+0.j 0.+0.j 0.+0.j]\n",
      "  [0.+0.j 0.+0.j 0.+0.j 0.+0.j]\n",
      "  [0.+0.j 0.+0.j 0.+0.j 0.+0.j]]\n",
      "\n",
      " [[0.+0.j 0.+0.j 0.+0.j 0.+0.j]\n",
      "  [0.+0.j 0.+0.j 0.+0.j 0.+0.j]\n",
      "  [0.+0.j 0.+0.j 0.+0.j 0.+0.j]]]\n",
      "[[[0.        +0.j 0.        +0.j 0.        +0.j 0.        +0.j]\n",
      "  [0.        +0.j 0.        +0.j 0.        +0.j 0.        +0.j]\n",
      "  [0.        +0.j 0.        +0.j 0.        +0.j 0.        +0.j]]\n",
      "\n",
      " [[0.        +0.j 0.        +0.j 0.        +0.j 0.        +0.j]\n",
      "  [0.        +0.j 0.        +0.j 0.28571429+0.j 0.        +0.j]\n",
      "  [0.        +0.j 0.        +0.j 0.        +0.j 0.        +0.j]]\n",
      "\n",
      " [[0.        +0.j 0.        +0.j 0.        +0.j 0.        +0.j]\n",
      "  [0.28571429+0.j 0.        +0.j 0.        +0.j 0.        +0.j]\n",
      "  [0.28571429+0.j 0.        +0.j 0.        +0.j 0.        +0.j]]\n",
      "\n",
      " [[0.        +0.j 0.        +0.j 0.        +0.j 0.        +0.j]\n",
      "  [0.        +0.j 0.        +0.j 0.        +0.j 0.        +0.j]\n",
      "  [0.        +0.j 0.        +0.j 0.        +0.j 0.        +0.j]]\n",
      "\n",
      " [[0.        +0.j 0.        +0.j 0.        +0.j 0.        +0.j]\n",
      "  [0.        +0.j 0.        +0.j 0.        +0.j 0.        +0.j]\n",
      "  [0.        +0.j 0.        +0.j 0.        +0.j 0.        +0.j]]\n",
      "\n",
      " [[0.        +0.j 0.        +0.j 0.        +0.j 0.        +0.j]\n",
      "  [0.        +0.j 0.        +0.j 0.        +0.j 0.        +0.j]\n",
      "  [0.        +0.j 0.        +0.j 0.        +0.j 0.        +0.j]]]\n"
     ]
    }
   ],
   "source": [
    "# Define the system\n",
    "Lx = 16\n",
    "Ly = 2\n",
    "sample = 2\n",
    "dV = 0.1\n",
    "\n",
    "kub = kubo()\n",
    "kub.set_graphene_nanoribbon(Lx, Ly, sample, dV, calc=True)\n",
    "\n",
    "# Define the Fermi energy and the time series\n",
    "mu = 0.6\n",
    "TMIN = 0; TMAX = 30; NT = 80; tlist = np.linspace(TMIN, TMAX, NT)\n",
    "\n",
    "# Define all the bonds across which you want to compute the current\n",
    "vels = []\n",
    "for xx in range(kub.lead1, kub.lead2):\n",
    "    for yy in range(kub.Ly):\n",
    "        vels.append([xx,yy,0,xx,yy,1])\n",
    "        vels.append([xx,yy,1,xx,yy,2])\n",
    "        vels.append([xx,yy,2,xx,yy,3])\n",
    "    for yy in range(kub.Ly - 1):\n",
    "        vels.append([xx,yy,2,xx,yy+1,1])\n",
    "\n",
    "for xx in range(kub.lead1, kub.lead2-1):\n",
    "    for yy in range(kub.Ly):\n",
    "        vels.append([xx,yy,3,xx+1,yy,0])\n",
    "    for yy in range(kub.Ly-1):\n",
    "        vels.append([xx,yy,3,xx+1,yy+1,0])\n",
    "print(\"total number of bonds: \", len(vels))"
   ]
  },
  {
   "cell_type": "code",
   "execution_count": null,
   "id": "e5cc7a8d-fb9d-4b3f-a17a-660eb1c1546c",
   "metadata": {},
   "outputs": [],
   "source": []
  }
 ],
 "metadata": {
  "kernelspec": {
   "display_name": "Python 3 (ipykernel)",
   "language": "python",
   "name": "python3"
  },
  "language_info": {
   "codemirror_mode": {
    "name": "ipython",
    "version": 3
   },
   "file_extension": ".py",
   "mimetype": "text/x-python",
   "name": "python",
   "nbconvert_exporter": "python",
   "pygments_lexer": "ipython3",
   "version": "3.9.7"
  }
 },
 "nbformat": 4,
 "nbformat_minor": 5
}

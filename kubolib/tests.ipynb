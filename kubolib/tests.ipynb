{
 "cells": [
  {
   "cell_type": "markdown",
   "id": "0fcabef5-a13e-4f72-a935-f6b2146f8e48",
   "metadata": {
    "tags": []
   },
   "source": [
    "# Tests"
   ]
  },
  {
   "cell_type": "code",
   "execution_count": null,
   "id": "6ae2b6c6-2fc2-48c4-8ba8-fb55d9f5708f",
   "metadata": {},
   "outputs": [],
   "source": [
    "def test_tevop(self):\n",
    "    dt = 0.1\n",
    "    U = evolve(self,dt)\n",
    "    \n",
    "    total_sum = 0\n",
    "    \n",
    "    for i in range(self.N):\n",
    "        \n",
    "        vec = self.vecs[:,i]\n",
    "        val = self.vals[i]\n",
    "\n",
    "\n",
    "\n",
    "        evolved1 = U@vec\n",
    "        evolved2 = np.exp(-1j*val*dt)*vec\n",
    "        dif = np.linalg.norm(evolved1 - evolved2)\n",
    "    \n",
    "        total_sum += dif\n",
    "        \n",
    "    print(f\"Testing time evolution. {total_sum}\")\n",
    "    \n",
    "\n",
    "\n",
    "def test_fermi_op(self):\n",
    "    \n",
    "    total_sum = 0\n",
    "    mus = [-3, -2, -1, 0, 1, 2, 3]\n",
    "    for mu in mus:\n",
    "        \n",
    "        F = fermi(self, mu)\n",
    "        trace = np.real(np.sum(np.diag(F)))\n",
    "        soma = np.sum([1 for i in self.vals0 if i < mu])\n",
    "        dif = abs(soma - trace)\n",
    "        total_sum += dif\n",
    "        \n",
    "    print(\"Testing the Fermi operator\", total_sum)\n",
    "    \n",
    "    \n",
    "    "
   ]
  }
 ],
 "metadata": {
  "kernelspec": {
   "display_name": "Python 3 (ipykernel)",
   "language": "python",
   "name": "python3"
  },
  "language_info": {
   "codemirror_mode": {
    "name": "ipython",
    "version": 3
   },
   "file_extension": ".py",
   "mimetype": "text/x-python",
   "name": "python",
   "nbconvert_exporter": "python",
   "pygments_lexer": "ipython3",
   "version": "3.9.7"
  }
 },
 "nbformat": 4,
 "nbformat_minor": 5
}

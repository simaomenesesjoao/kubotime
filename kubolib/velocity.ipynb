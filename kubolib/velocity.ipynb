{
 "cells": [
  {
   "cell_type": "code",
   "execution_count": 1,
   "id": "53b04334-f668-412f-9a7f-8acad2af578f",
   "metadata": {},
   "outputs": [],
   "source": [
    "import numpy as np\n",
    "from hamiltonian import *"
   ]
  },
  {
   "cell_type": "code",
   "execution_count": 2,
   "id": "e0089c32-47f8-4ff8-8426-f737c64ab19d",
   "metadata": {},
   "outputs": [
    {
     "name": "stdout",
     "output_type": "stream",
     "text": [
      "[NbConvertApp] Converting notebook velocity.ipynb to script\n",
      "[NbConvertApp] Writing 2986 bytes to velocity.py\n"
     ]
    }
   ],
   "source": [
    "if __name__== \"__main__\":\n",
    "    !jupyter-nbconvert --to script velocity.ipynb"
   ]
  },
  {
   "cell_type": "markdown",
   "id": "f4056638-b85a-477a-b416-6a59e5a41592",
   "metadata": {},
   "source": [
    "# Velocity methods"
   ]
  },
  {
   "cell_type": "code",
   "execution_count": 3,
   "id": "46c8a17b-1068-4082-a1db-72640e00a772",
   "metadata": {},
   "outputs": [],
   "source": [
    "def get_v_element(self, left, right, axis):\n",
    "    \"\"\" Calculates the velocity matrix element requested: <left | v | right > \n",
    "    without having to construct the whole velocity operator explicitly. \n",
    "    The velocity operator does not depend on the ramp, so the Hamiltonian used for\n",
    "    this calculation can be chosen at once to be the one without ramp\n",
    "    \"\"\"\n",
    "    \n",
    "    Lx,Ly,No = self.Lx, self.Ly, self.Norb\n",
    "    n =  left[0] +  left[1]*Lx +  left[2]*Lx*Ly\n",
    "    m = right[0] + right[1]*Lx + right[2]*Lx*Ly\n",
    "    a = get_element(self, self.bonds0, self.offsets0, left, right)\n",
    "    \n",
    "    vecL =  left[0]*self.primitives[0] +  left[1]*self.primitives[1] + self.orb_pos[ left[2]]\n",
    "    vecR = right[0]*self.primitives[0] + right[1]*self.primitives[1] + self.orb_pos[right[2]]\n",
    "    diff = vecL - vecR\n",
    "    vel = 0\n",
    "    if axis == 0 or axis == 1:\n",
    "        vel = -1j*diff[axis]*a\n",
    "    elif axis == 2:\n",
    "        dist = np.linalg.norm(diff)\n",
    "        vec_x = np.array([1.0, 0.0])\n",
    "        dot = np.vdot(vec_x, diff)\n",
    "        sign = dot/np.abs(dot)\n",
    "        vel = -1j*dist*sign*a\n",
    "        # print(\"get v_element: \", dist, vel)\n",
    "    \n",
    "    \n",
    "    return vel\n",
    "\n",
    "def local_v(self, left, right, axis):\n",
    "    \"\"\" Local current operator between two sites/orbitals (right and left)\n",
    "    This is matrix defined in the whole Hilbert space.\n",
    "    This matrix is essentially zero except for two places.\n",
    "    \"\"\"\n",
    "    Lx,Ly,No,N = self.Lx, self.Ly, self.Norb, self.N\n",
    "    \n",
    "    velocity = np.zeros([N,N], dtype=complex)\n",
    "    n =   left[0] + left[1]*Lx +  left[2]*Lx*Ly\n",
    "    m = right[0] + right[1]*Lx + right[2]*Lx*Ly\n",
    "    vv = get_v_element(self, left, right, axis)\n",
    "    velocity[m,n] = vv\n",
    "    velocity[n,m] = np.conj(vv)\n",
    "    return velocity\n",
    "\n",
    "def projected_v(self, vels, axis):\n",
    "    \"\"\" sum of local current operators given by the bonds specified in 'vels' \"\"\"\n",
    "    Lx,Ly,No,N = self.Lx, self.Ly, self.Norb, self.N\n",
    "    velocity = np.zeros([N,N], dtype=complex)\n",
    "    \n",
    "    NB = len(vels[:,0])\n",
    "    for i in range(NB):\n",
    "        \n",
    "        left = vels[i,:3]\n",
    "        right = vels[i,3:]\n",
    "        n =  left[0] +  left[1]*Lx +  left[2]*Lx*Ly\n",
    "        m = right[0] + right[1]*Lx + right[2]*Lx*Ly\n",
    "        vv = get_v_element(self, left, right,axis)\n",
    "        \n",
    "        velocity[m,n] = vv\n",
    "        velocity[n,m] = np.conj(vv)\n",
    "    return velocity\n",
    "\n",
    "def get_V(self):\n",
    "    if not self.bonds0 or not self.offsets0: print(\"bonds0 or offsets0 not set\")\n",
    "    \n",
    "    # Axis is 0 or 1, flag is 0,1,2 but 0 corresponds to Hamiltonian\n",
    "    flag = 1\n",
    "    self.Vx = bonds_to_matrix(self, self.bonds0, self.offsets0,flag)\n",
    "    print(f\"Calculating Vx operator. Norm={np.linalg.norm(self.Vx)}\")\n",
    "    \n",
    "    flag = 3\n",
    "    self.Vb = bonds_to_matrix(self, self.bonds0, self.offsets0,flag)\n",
    "    print(f\"Calculating Vb operator. Norm={np.linalg.norm(self.Vb)}\")\n",
    "    "
   ]
  }
 ],
 "metadata": {
  "kernelspec": {
   "display_name": "Python 3 (ipykernel)",
   "language": "python",
   "name": "python3"
  },
  "language_info": {
   "codemirror_mode": {
    "name": "ipython",
    "version": 3
   },
   "file_extension": ".py",
   "mimetype": "text/x-python",
   "name": "python",
   "nbconvert_exporter": "python",
   "pygments_lexer": "ipython3",
   "version": "3.9.7"
  }
 },
 "nbformat": 4,
 "nbformat_minor": 5
}

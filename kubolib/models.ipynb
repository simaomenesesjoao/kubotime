{
 "cells": [
  {
   "cell_type": "code",
   "execution_count": 1,
   "id": "e8723ceb-1afe-42f3-8daf-46b51e146df4",
   "metadata": {},
   "outputs": [],
   "source": [
    "import numpy as np"
   ]
  },
  {
   "cell_type": "code",
   "execution_count": 2,
   "id": "0f3f74b7-2257-4d45-b347-d27e36d5b4cb",
   "metadata": {},
   "outputs": [
    {
     "name": "stdout",
     "output_type": "stream",
     "text": [
      "[NbConvertApp] Converting notebook models.ipynb to script\n",
      "[NbConvertApp] Writing 4660 bytes to models.py\n"
     ]
    }
   ],
   "source": [
    "if __name__== \"__main__\":\n",
    "    !jupyter-nbconvert --to script models.ipynb"
   ]
  },
  {
   "cell_type": "markdown",
   "id": "701a0570-cbc3-43df-940a-81ed5b8ea510",
   "metadata": {},
   "source": [
    "<h1 style=\"text-align:center;\"><font size=7><b> Models </b></font></h1>\n",
    "\n",
    "This document provides some convenient pre-defined lattice models that the user can use, either in 1D or 2D."
   ]
  },
  {
   "cell_type": "markdown",
   "id": "e2e799d8-bec0-4e1c-8a3c-769787b6e4c3",
   "metadata": {
    "jp-MarkdownHeadingCollapsed": true,
    "tags": []
   },
   "source": [
    "<h2><font size=6><b>Graphene ranoribbon</b></font></h2>\n",
    "Define a graphene nanoribbon. The nanoribbon is oriented so that its wider borders are armchair. Each unit cell has 4 atoms"
   ]
  },
  {
   "cell_type": "code",
   "execution_count": 3,
   "id": "3cf201d9-1520-4f22-a3c5-f7b910b17f98",
   "metadata": {},
   "outputs": [],
   "source": [
    "def set_graphene_nanoribbon(self, Lx, Ly, sample, dV, SCALE=3.5, calc=False, PBC=False):\n",
    "    a0 = 1.0\n",
    "    primitives = [[3*a0, 0.0], [0.0, np.sqrt(3)*a0]]\n",
    "    orb_pos = [[    0.0,              0.0 ], \n",
    "               [     a0,              0.0 ], \n",
    "               [ 3*a0/2,  np.sqrt(3)*a0/2 ], \n",
    "               [ 5*a0/2,  np.sqrt(3)*a0/2 ]]\n",
    "\n",
    "    self.set_prim(primitives)\n",
    "    self.set_orb_pos(orb_pos)\n",
    "    self.set_geometry(Lx,Ly,sample)\n",
    "    self.set_scale(SCALE)\n",
    "    self.set_ramp(dV, calc=calc)\n",
    "\n",
    "    t = 1.0\n",
    "    # Define the TB bonds: within same unit cell\n",
    "    self.add_bond(t*np.ones([  Lx,   Ly]), [ 0, 0, 0, 1])\n",
    "    self.add_bond(t*np.ones([  Lx,   Ly]), [ 0, 0, 1, 0])\n",
    "    self.add_bond(t*np.ones([  Lx,   Ly]), [ 0, 0, 1, 2])\n",
    "    self.add_bond(t*np.ones([  Lx,   Ly]), [ 0, 0, 2, 1])\n",
    "    self.add_bond(t*np.ones([  Lx,   Ly]), [ 0, 0, 2, 3])\n",
    "    self.add_bond(t*np.ones([  Lx,   Ly]), [ 0, 0, 3, 2])\n",
    "\n",
    "    # Define the TB bonds: to other unit cells\n",
    "    Lxp = Lx-1\n",
    "    Lyp = Ly-1\n",
    "    if PBC:\n",
    "        Lxp = Lx\n",
    "        Lyp = Ly\n",
    "        \n",
    "    self.add_bond(t*np.ones([Lxp, Ly]), [ 1, 0, 3, 0])\n",
    "    self.add_bond(t*np.ones([Lxp, Ly]), [-1, 0, 0, 3])\n",
    "\n",
    "    self.add_bond(t*np.ones([Lx, Lyp]), [ 0, 1, 2, 1])\n",
    "    self.add_bond(t*np.ones([Lx, Lyp]), [ 0,-1, 1, 2])\n",
    "\n",
    "    self.add_bond(t*np.ones([Lxp, Lyp]), [ 1, 1, 3, 0])\n",
    "    self.add_bond(t*np.ones([Lxp, Lyp]), [-1,-1, 0, 3])\n",
    "\n",
    "    self.add_ramp_as_bonds()\n",
    "\n",
    "    if calc:\n",
    "        self.get_H0()\n",
    "        self.get_H()\n",
    "        self.get_V()\n",
    "\n",
    "        # Diagonalize the Hamiltonian matrices\n",
    "        self.diag_H()\n",
    "        self.diag_H0()"
   ]
  },
  {
   "cell_type": "markdown",
   "id": "73ea3e2d-6eeb-4025-8ac0-40d15bcb1ccd",
   "metadata": {
    "jp-MarkdownHeadingCollapsed": true,
    "tags": []
   },
   "source": [
    "<h2><font size=6><b>1D tight-binding chain</b></font></h2>\n",
    "This is implemented as a 2D square lattice with width $L_y=1$"
   ]
  },
  {
   "cell_type": "code",
   "execution_count": 4,
   "id": "f06fbef3-1fc4-45c1-9cc8-5a2e8f774bdd",
   "metadata": {},
   "outputs": [],
   "source": [
    "def set_1DTB(self, Lx, sample, dV, SCALE=2.1):\n",
    "    a0 = 1.0\n",
    "    primitives = [[a0, 0.0], [0.0, a0]]\n",
    "    orb_pos = [[0.0, 0.0 ]]\n",
    "    \n",
    "    Ly = 1\n",
    "\n",
    "    self.set_prim(primitives)\n",
    "    self.set_orb_pos(orb_pos)\n",
    "    self.set_geometry(Lx,Ly,sample)\n",
    "    self.set_scale(SCALE)\n",
    "    self.set_ramp(dV, calc=calc)\n",
    "\n",
    "    t = 1.0\n",
    "\n",
    "    # Define the TB bonds: to other unit cells\n",
    "    self.add_bond(t*np.ones([Lx-1,   Ly]), [ 1, 0, 0, 0])\n",
    "    self.add_bond(t*np.ones([Lx-1,   Ly]), [-1, 0, 0, 0])\n",
    "\n",
    "\n",
    "    self.add_ramp_as_bonds()\n",
    "\n",
    "    self.get_H0()\n",
    "    self.get_H()\n",
    "    self.get_V()\n",
    "\n",
    "    # Diagonalize the Hamiltonian matrices\n",
    "    self.diag_H()\n",
    "    self.diag_H0()"
   ]
  },
  {
   "cell_type": "markdown",
   "id": "9bfc9768-a9a9-46cc-9055-6c6632e0f35b",
   "metadata": {
    "tags": []
   },
   "source": [
    "<h2><font size=6><b>Square lattice</b></font></h2>\n"
   ]
  },
  {
   "cell_type": "code",
   "execution_count": 5,
   "id": "07158cba-89e6-4c67-b6ba-17020e41ac56",
   "metadata": {},
   "outputs": [],
   "source": [
    "def set_square(self, Lx, Ly, sample, dV, SCALE=4.5, calc=False, PBC=False):\n",
    "    a0 = 1.0\n",
    "    primitives = [[a0, 0.0], [0.0,a0]]\n",
    "    orb_pos = [[0.0, 0.0 ]]\n",
    "\n",
    "    self.PBC = PBC\n",
    "    self.set_prim(primitives)\n",
    "    self.set_orb_pos(orb_pos)\n",
    "    self.set_geometry(Lx,Ly,sample)\n",
    "    self.set_scale(SCALE)\n",
    "    self.set_ramp(dV, calc=calc)\n",
    "\n",
    "    t = 1.0\n",
    "    \n",
    "    # Define the TB bonds: to other unit cells\n",
    "    Lxp = Lx-1\n",
    "    Lyp = Ly-1\n",
    "    if PBC:\n",
    "        Lxp = Lx\n",
    "        Lyp = Ly\n",
    "        \n",
    "    self.add_bond(t*np.ones([Lxp, Ly]), [ 1, 0, 0, 0])\n",
    "    self.add_bond(t*np.ones([Lxp, Ly]), [-1, 0, 0, 0])\n",
    "    self.add_bond(t*np.ones([Lx, Lyp]), [ 0, 1, 0, 0])\n",
    "    self.add_bond(t*np.ones([Lx, Lyp]), [ 0,-1, 0, 0])\n",
    "    \n",
    "    \n",
    "    \n",
    "    \n",
    "    pot = np.zeros([Lx, Ly])\n",
    "    pot = np.random.random([Lx, Ly])*0.0\n",
    "    # pot[1,1] = 1\n",
    "    self.add_bond(pot, [0,0,0,0])\n",
    "    \n",
    "\n",
    "    self.add_ramp_as_bonds()\n",
    "\n",
    "    if calc:\n",
    "        self.get_H0()\n",
    "        self.get_H()\n",
    "        self.get_V()\n",
    "\n",
    "        # Diagonalize the Hamiltonian matrices\n",
    "        self.diag_H()\n",
    "        self.diag_H0()"
   ]
  },
  {
   "cell_type": "markdown",
   "id": "04f1990f-0a76-48aa-828c-abc5e57c2390",
   "metadata": {
    "jp-MarkdownHeadingCollapsed": true,
    "tags": []
   },
   "source": [
    "<h2><font size=6><b>Square lattice 2nd neighbours</b></font></h2>\n"
   ]
  },
  {
   "cell_type": "code",
   "execution_count": 6,
   "id": "a8bd7888-15f4-47d8-8839-3c83d07fa6a6",
   "metadata": {},
   "outputs": [],
   "source": [
    "def set_square_2nd(self, Lx, Ly, sample, dV, SCALE=4.5, calc=False, PBC=False):\n",
    "    a0 = 1.0\n",
    "    primitives = [[a0, 0.0], [0.0,a0]]\n",
    "    orb_pos = [[0.0, 0.0 ]]\n",
    "\n",
    "    self.set_prim(primitives)\n",
    "    self.set_orb_pos(orb_pos)\n",
    "    self.set_geometry(Lx,Ly,sample)\n",
    "    self.set_scale(SCALE)\n",
    "    self.set_ramp(dV, calc=calc)\n",
    "\n",
    "    t = 1.0\n",
    "    \n",
    "    # Define the TB bonds: to other unit cells\n",
    "    Lxp = Lx-1\n",
    "    Lyp = Ly-1\n",
    "    if PBC:\n",
    "        Lxp = Lx\n",
    "        Lyp = Ly\n",
    "        \n",
    "#     self.add_bond(t*np.ones([Lxp, Ly]), [ 1, 0, 0, 0])\n",
    "#     self.add_bond(t*np.ones([Lxp, Ly]), [-1, 0, 0, 0])\n",
    "#     self.add_bond(t*np.ones([Lx, Lyp]), [ 0, 1, 0, 0])\n",
    "#     self.add_bond(t*np.ones([Lx, Lyp]), [ 0,-1, 0, 0])\n",
    "    \n",
    "    self.add_bond(t*np.ones([Lxp, Lyp]), [ 1, 1, 0, 0])\n",
    "    self.add_bond(t*np.ones([Lxp, Lyp]), [-1,-1, 0, 0])\n",
    "    self.add_bond(t*np.ones([Lxp, Lyp]), [ 1,-1, 0, 0])\n",
    "    self.add_bond(t*np.ones([Lxp, Lyp]), [-1, 1, 0, 0])\n",
    "\n",
    "    self.add_ramp_as_bonds()\n",
    "\n",
    "    if calc:\n",
    "        self.get_H0()\n",
    "        self.get_H()\n",
    "        self.get_V()\n",
    "\n",
    "        # Diagonalize the Hamiltonian matrices\n",
    "        self.diag_H()\n",
    "        self.diag_H0()"
   ]
  },
  {
   "cell_type": "markdown",
   "id": "712f57a4-01d8-4fab-bac5-aa2d94584334",
   "metadata": {},
   "source": [
    "<h2><font size=6><b>Other</b></font></h2>\n"
   ]
  },
  {
   "cell_type": "code",
   "execution_count": null,
   "id": "16e0df57-5d45-4a37-a426-66305246f428",
   "metadata": {},
   "outputs": [],
   "source": []
  }
 ],
 "metadata": {
  "kernelspec": {
   "display_name": "Python 3 (ipykernel)",
   "language": "python",
   "name": "python3"
  },
  "language_info": {
   "codemirror_mode": {
    "name": "ipython",
    "version": 3
   },
   "file_extension": ".py",
   "mimetype": "text/x-python",
   "name": "python",
   "nbconvert_exporter": "python",
   "pygments_lexer": "ipython3",
   "version": "3.10.1"
  }
 },
 "nbformat": 4,
 "nbformat_minor": 5
}
